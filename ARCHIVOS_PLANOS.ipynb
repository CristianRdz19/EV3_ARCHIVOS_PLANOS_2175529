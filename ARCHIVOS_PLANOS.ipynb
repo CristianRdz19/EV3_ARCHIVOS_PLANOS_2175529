{
  "cells": [
    {
      "cell_type": "code",
      "execution_count": 1,
      "metadata": {
        "id": "N_QlZQZEBgtT"
      },
      "outputs": [],
      "source": [
        "archivo1=open(\"datos.txt\",\"w\")\n",
        "archivo1.write(\"Primera linea.\\n\")\n",
        "archivo1.write(\"Segunda linea.\\n\")\n",
        "archivo1.write(\"Tercera linea.\\n\")\n",
        "archivo1.close()\n"
      ]
    },
    {
      "cell_type": "code",
      "execution_count": 2,
      "metadata": {
        "colab": {
          "base_uri": "https://localhost:8080/"
        },
        "id": "95hE3G8S4kod",
        "outputId": "de2a3d67-32ea-4622-e9c5-22787fdfb564"
      },
      "outputs": [
        {
          "name": "stdout",
          "output_type": "stream",
          "text": [
            "Primera linea.\n",
            "Segunda linea.\n",
            "Tercera linea.\n",
            "\n"
          ]
        }
      ],
      "source": [
        "archivo1=open(\"datos.txt\",\"r\")\n",
        "contenido=archivo1.read()\n",
        "print(contenido)\n",
        "archivo1.close()"
      ]
    },
    {
      "cell_type": "code",
      "execution_count": 3,
      "metadata": {
        "colab": {
          "base_uri": "https://localhost:8080/"
        },
        "id": "Y5Bvhw9O5nFm",
        "outputId": "3e8bfca0-a2d2-4a3c-e11e-a5937eb17a7b"
      },
      "outputs": [
        {
          "name": "stdout",
          "output_type": "stream",
          "text": [
            "Primera linea.\n",
            "Segunda linea.\n",
            "Tercera linea.\n"
          ]
        }
      ],
      "source": [
        "archivo1=open(\"datos.txt\",\"r\")\n",
        "linea=archivo1.readline()\n",
        "while linea!='':\n",
        "  print(linea, end='')\n",
        "  linea=archivo1.readline()\n",
        "archivo1.close()"
      ]
    },
    {
      "cell_type": "code",
      "execution_count": 4,
      "metadata": {
        "colab": {
          "base_uri": "https://localhost:8080/"
        },
        "id": "6UIbFoRv69QS",
        "outputId": "bc4b8aac-48eb-42d2-da3b-12480155ac27"
      },
      "outputs": [
        {
          "name": "stdout",
          "output_type": "stream",
          "text": [
            "Primera linea.\n",
            "Segunda linea.\n",
            "Tercera linea.\n"
          ]
        }
      ],
      "source": [
        "archivo1=open(\"datos.txt\",\"r\")\n",
        "for linea in archivo1:\n",
        "  print(linea, end='')\n",
        "archivo1.close()"
      ]
    },
    {
      "cell_type": "code",
      "execution_count": 5,
      "metadata": {
        "colab": {
          "base_uri": "https://localhost:8080/"
        },
        "id": "xPbL7Aew7hee",
        "outputId": "5fef5d18-0417-49d1-c814-0d0ae0142704"
      },
      "outputs": [
        {
          "name": "stdout",
          "output_type": "stream",
          "text": [
            "El archivo tiene 3 lineas\n",
            "El contenido del archivo\n",
            "Primera linea.\n",
            "Segunda linea.\n",
            "Tercera linea.\n"
          ]
        }
      ],
      "source": [
        "archivo1=open(\"datos.txt\",\"r\")\n",
        "lineas=archivo1.readlines()\n",
        "print(\"El archivo tiene\", len(lineas), \"lineas\")\n",
        "print(\"El contenido del archivo\")\n",
        "for linea in lineas:\n",
        "  print(linea, end=\"\")\n",
        "archivo1.close()"
      ]
    },
    {
      "cell_type": "code",
      "execution_count": 6,
      "metadata": {
        "colab": {
          "base_uri": "https://localhost:8080/"
        },
        "id": "Oa-lEnQt-xGs",
        "outputId": "b14f5df0-8485-4f94-9b9e-bf386ce2894e"
      },
      "outputs": [
        {
          "name": "stdout",
          "output_type": "stream",
          "text": [
            "Primera linea.\n",
            "Segunda linea.\n",
            "Tercera linea.\n",
            "Linea nueva 1\n",
            "Linea nueva 2\n",
            "\n"
          ]
        }
      ],
      "source": [
        "archivo1=open(\"datos.txt\",\"a\")\n",
        "archivo1.write(\"Linea nueva 1\\n\")\n",
        "archivo1.write(\"Linea nueva 2\\n\")\n",
        "archivo1.close()\n",
        "archivo1=open(\"datos.txt\",\"r\")\n",
        "contenido=archivo1.read()\n",
        "print(contenido)\n",
        "archivo1.close()"
      ]
    },
    {
      "cell_type": "code",
      "execution_count": 7,
      "metadata": {
        "id": "on_1UOKVAArZ"
      },
      "outputs": [
        {
          "name": "stdout",
          "output_type": "stream",
          "text": [
            "Primera linea.\n",
            "Segunda linea.\n",
            "Tercera linea.\n",
            "Linea nueva 1\n",
            "Linea nueva 2\n",
            "\n"
          ]
        }
      ],
      "source": [
        "archivo1=open(\"datos.txt\",\"r+\")\n",
        "contenido=archivo1.read()\n",
        "print(contenido)\n",
        "archivo1.write(\"Linea nueva 3\\n\")\n",
        "archivo1.write(\"Linea nueva 4\\n\")\n",
        "archivo1.close()"
      ]
    },
    {
      "cell_type": "code",
      "execution_count": 8,
      "metadata": {},
      "outputs": [],
      "source": [
        "archivo1=open(\"datos.txt\",\"w\", encoding=\"utf-8\") \n",
        "archivo1.write(\"Primer línea.\\n\") \n",
        "archivo1.write(\"Segunda línea.\\n\") \n",
        "archivo1.write(\"Tercer línea.\\n\")  \n",
        "archivo1.close()"
      ]
    }
  ],
  "metadata": {
    "colab": {
      "provenance": []
    },
    "kernelspec": {
      "display_name": "Python 3",
      "name": "python3"
    },
    "language_info": {
      "codemirror_mode": {
        "name": "ipython",
        "version": 3
      },
      "file_extension": ".py",
      "mimetype": "text/x-python",
      "name": "python",
      "nbconvert_exporter": "python",
      "pygments_lexer": "ipython3",
      "version": "3.11.3"
    }
  },
  "nbformat": 4,
  "nbformat_minor": 0
}
